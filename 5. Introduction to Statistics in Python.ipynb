{
 "cells": [
  {
   "cell_type": "markdown",
   "id": "fcdb473d",
   "metadata": {},
   "source": [
    "# Introduction to Statistics\n",
    "\n",
    "## 1. What is Statistics?\n",
    "- **Definition**: The practice and study of collecting and analyzing data.\n",
    "- **Summary Statistic**: A fact about or summary of data, such as an **average** or a **count**.\n",
    "\n",
    "## 2. What Can Statistics Do?\n",
    "Statistics helps answer important questions, such as:\n",
    "- How likely is someone to purchase a product?\n",
    "- Does a different payment system influence purchasing behavior?\n",
    "- How can a hotel optimize occupancy?\n",
    "- How many sizes of jeans should be manufactured to fit **95%** of the population?\n",
    "- Which advertisement is more effective? (**A/B testing** can help answer this.)\n",
    "\n",
    "## 3. What Can't Statistics Do?\n",
    "- **Statistics cannot always explain *why* something happens.**\n",
    "- **Example**: Why is *Game of Thrones* so popular?\n",
    "  - We can analyze viewer data but cannot determine the exact reason for its popularity.\n",
    "\n",
    "## 4. Types of Statistics\n",
    "### Two Main Branches:\n",
    "1. **Descriptive Statistics** – Summarizes and describes data.\n",
    "   - **Example**: Among four friends, **50% drive** to work, **25% take the bus**, and **25% bike**.\n",
    "2. **Inferential Statistics** – Makes predictions about a larger population using sample data.\n",
    "   - **Example**: Estimating the percentage of people who drive to work based on a small sample.\n",
    "\n",
    "## 5. Types of Data\n",
    "### Two Main Types:\n",
    "1. **Numeric (Quantitative) Data** – Made up of numbers.\n",
    "   - **Continuous Data**: Measured values (e.g., speed, time).\n",
    "   - **Discrete Data**: Counted values (e.g., number of pets, packages shipped).\n",
    "2. **Categorical (Qualitative) Data** – Belong to distinct groups.\n",
    "   - **Nominal Data**: No inherent order (e.g., marital status, country of residence).\n",
    "   - **Ordinal Data**: Has an order (e.g., survey ratings from **1 to 5**).\n",
    "\n",
    "## 6. Categorical Data Can Be Represented as Numbers\n",
    "- **Example**: Marital status (Married = 1, Unmarried = 0).\n",
    "- **Note**: Using numbers doesn’t make categorical variables numeric.\n",
    "\n",
    "## 7. Why Does Data Type Matter?\n",
    "- **Identifying data types helps determine appropriate summary statistics and visualizations.**\n",
    "  - **Numerical Data**: Use **mean**, **scatter plots**, etc.\n",
    "  - **Categorical Data**: Use **counts**, **bar plots**, etc.\n"
   ]
  },
  {
   "cell_type": "markdown",
   "id": "3fb3be05",
   "metadata": {},
   "source": [
    "# Measures of Center\n",
    "\n",
    "## 1. Mean (Average)\n",
    "- **Definition**: The sum of all values divided by the number of data points.\n",
    "- **Formula**: \\( \\text{Mean} = \\frac{\\sum X}{n} \\)\n",
    "\n",
    "## 2. Median\n",
    "- **Definition**: The middle value when data is sorted.\n",
    "- **Steps to Find Median**:\n",
    "  1. Arrange the data in ascending order.\n",
    "  2. If **n** is odd, the median is the middle value.\n",
    "  3. If **n** is even, the median is the average of the two middle values.\n",
    "\n",
    "## 3. Mode\n",
    "- **Definition**: The most frequently occurring value in the dataset.\n",
    "- **Usage**: Often used for **categorical data**.\n",
    "\n",
    "## 4. Impact of Outliers\n",
    "- **Outliers** can significantly affect the mean, making it less reliable for skewed data.\n",
    "- **Example**: If one person in a group has an extremely high salary, the mean salary increases significantly, but the median remains stable.\n",
    "\n",
    "## 5. Which Measure to Use?\n",
    "- **Symmetrical Data**: The **mean** is a good choice.\n",
    "- **Skewed Data**: The **median** is better as it is less affected by extreme values.\n",
    "- **Categorical Data**: Use the **mode**.\n",
    "\n",
    "## 6. Conclusion\n",
    "- When data is skewed, the **mean** is pulled in the direction of the skew.\n",
    "- The **median** is more robust against extreme values and is preferred when data contains outliers.\n",
    "- **Final Recommendation**: In most cases, the **median** is the best measure of center when dealing with real-world data.\n"
   ]
  },
  {
   "cell_type": "code",
   "execution_count": 22,
   "id": "498fd19d",
   "metadata": {},
   "outputs": [],
   "source": [
    "import pandas as pd\n",
    "\n",
    "#Import data \n",
    "food_consumption = pd.read_csv(r\"C:\\Users\\Nikhil Patil\\Downloads\\food_consumption.csv\")"
   ]
  },
  {
   "cell_type": "code",
   "execution_count": 25,
   "id": "8448e09f",
   "metadata": {},
   "outputs": [
    {
     "data": {
      "text/html": [
       "<div>\n",
       "<style scoped>\n",
       "    .dataframe tbody tr th:only-of-type {\n",
       "        vertical-align: middle;\n",
       "    }\n",
       "\n",
       "    .dataframe tbody tr th {\n",
       "        vertical-align: top;\n",
       "    }\n",
       "\n",
       "    .dataframe thead th {\n",
       "        text-align: right;\n",
       "    }\n",
       "</style>\n",
       "<table border=\"1\" class=\"dataframe\">\n",
       "  <thead>\n",
       "    <tr style=\"text-align: right;\">\n",
       "      <th></th>\n",
       "      <th>Unnamed: 0</th>\n",
       "      <th>country</th>\n",
       "      <th>food_category</th>\n",
       "      <th>consumption</th>\n",
       "      <th>co2_emission</th>\n",
       "    </tr>\n",
       "  </thead>\n",
       "  <tbody>\n",
       "    <tr>\n",
       "      <th>0</th>\n",
       "      <td>1</td>\n",
       "      <td>Argentina</td>\n",
       "      <td>pork</td>\n",
       "      <td>10.51</td>\n",
       "      <td>37.20</td>\n",
       "    </tr>\n",
       "    <tr>\n",
       "      <th>1</th>\n",
       "      <td>2</td>\n",
       "      <td>Argentina</td>\n",
       "      <td>poultry</td>\n",
       "      <td>38.66</td>\n",
       "      <td>41.53</td>\n",
       "    </tr>\n",
       "  </tbody>\n",
       "</table>\n",
       "</div>"
      ],
      "text/plain": [
       "   Unnamed: 0    country food_category  consumption  co2_emission\n",
       "0           1  Argentina          pork        10.51         37.20\n",
       "1           2  Argentina       poultry        38.66         41.53"
      ]
     },
     "execution_count": 25,
     "metadata": {},
     "output_type": "execute_result"
    }
   ],
   "source": [
    "#Initial Check \n",
    "food_consumption.head(2)"
   ]
  },
  {
   "cell_type": "code",
   "execution_count": 27,
   "id": "71943840",
   "metadata": {},
   "outputs": [
    {
     "data": {
      "text/plain": [
       "(1430, 5)"
      ]
     },
     "execution_count": 27,
     "metadata": {},
     "output_type": "execute_result"
    }
   ],
   "source": [
    "#Check data shape\n",
    "food_consumption.shape\n"
   ]
  },
  {
   "cell_type": "code",
   "execution_count": 29,
   "id": "4f601fe2",
   "metadata": {},
   "outputs": [
    {
     "name": "stdout",
     "output_type": "stream",
     "text": [
      "44.650000000000006\n",
      "14.58\n"
     ]
    }
   ],
   "source": [
    "# Import numpy with alias np\n",
    "import numpy as np \n",
    "\n",
    "# Subset country for USA: usa_consumption\n",
    "usa_consumption = food_consumption[food_consumption['country'] == 'USA']\n",
    "\n",
    "# Calculate mean consumption in USA\n",
    "print(np.mean(usa_consumption['consumption']))\n",
    "\n",
    "# Calculate median consumption in USA\n",
    "print(np.median(usa_consumption['consumption']))"
   ]
  },
  {
   "cell_type": "code",
   "execution_count": 8,
   "id": "4d16cdf5",
   "metadata": {},
   "outputs": [
    {
     "data": {
      "image/png": "[encoded data removed]",
      "text/plain": [
       "<Figure size 640x480 with 1 Axes>"
      ]
     },
     "metadata": {},
     "output_type": "display_data"
    }
   ],
   "source": [
    "#Mean vs. median\n",
    "\n",
    "# Import matplotlib.pyplot with alias plt\n",
    "import matplotlib.pyplot as plt\n",
    "\n",
    "# Subset for food_category equals rice\n",
    "rice_consumption = food_consumption[food_consumption['food_category']=='rice']\n",
    "\n",
    "\n",
    "# Histogram of co2_emission for rice and show plot\n",
    "rice_consumption['co2_emission'].hist()\n",
    "plt.show()\n"
   ]
  },
  {
   "cell_type": "code",
   "execution_count": 9,
   "id": "f7bb1652",
   "metadata": {},
   "outputs": [
    {
     "name": "stdout",
     "output_type": "stream",
     "text": [
      "mean      37.591615\n",
      "median    15.200000\n",
      "Name: co2_emission, dtype: float64\n"
     ]
    }
   ],
   "source": [
    "# Subset for food_category equals rice\n",
    "rice_consumption = food_consumption[food_consumption['food_category'] == 'rice']\n",
    "\n",
    "# Calculate mean and median of co2_emission with .agg()\n",
    "print(rice_consumption['co2_emission'].agg([np.mean, np.median]))"
   ]
  },
  {
   "cell_type": "markdown",
   "id": "900c2bf0",
   "metadata": {},
   "source": [
    "# Measures of Spread\n",
    "\n",
    "## 1. What is Spread?\n",
    "- Spread describes how **close together** or **far apart** data points are.\n",
    "- Similar to measures of center, there are different ways to measure spread.\n",
    "\n",
    "## 2. Variance\n",
    "- Measures the **average squared** distance from the mean.\n",
    "- Higher variance = More spread-out data.\n",
    "- **Formula:**\n",
    "  \\[ \\sigma^2 = \\frac{\\sum (x_i - \\bar{x})^2}{n-1} \\]\n",
    "- In Python:\n",
    "  ```python\n",
    "  import numpy as np\n",
    "  variance = np.var(data, ddof=1)\n",
    "  ```\n",
    "\n",
    "## 3. Standard Deviation (SD)\n",
    "- **Square root** of variance, making it more interpretable.\n",
    "- **Formula:**\n",
    "  \\[ \\sigma = \\sqrt{\\sigma^2} \\]\n",
    "- In Python:\n",
    "  ```python\n",
    "  std_dev = np.std(data, ddof=1)\n",
    "  ```\n",
    "\n",
    "## 4. Mean Absolute Deviation (MAD)\n",
    "- **Absolute value** of distances to the mean.\n",
    "- Unlike SD, **all distances are treated equally** (no squaring).\n",
    "- In Python:\n",
    "  ```python\n",
    "  mad = np.mean(np.abs(data - np.mean(data)))\n",
    "  ```\n",
    "\n",
    "## 5. Quantiles and Quartiles\n",
    "- **Quantiles** split data into equal parts (e.g., percentiles).\n",
    "- **Quartiles** divide data into 4 equal parts.\n",
    "- In Python:\n",
    "  ```python\n",
    "  q1, q2, q3 = np.quantile(data, [0.25, 0.5, 0.75])\n",
    "  ```\n",
    "\n",
    "## 6. Boxplots\n",
    "- Boxplots **visualize quartiles**.\n",
    "- **Q1 (25%)** → Bottom of the box\n",
    "- **Q2 (50%)** → Median (middle line)\n",
    "- **Q3 (75%)** → Top of the box\n",
    "\n",
    "## 7. Interquartile Range (IQR)\n",
    "- Measures spread between **Q1 and Q3**.\n",
    "- **Formula:**\n",
    "  \\[ IQR = Q3 - Q1 \\]\n",
    "- In Python:\n",
    "  ```python\n",
    "  from scipy.stats import iqr\n",
    "  iqr_value = iqr(data)\n",
    "  ```\n",
    "\n",
    "## 8. Outliers\n",
    "- **Definition:** Points that are **far from the rest** of the data.\n",
    "- **Outlier rule:**\n",
    "  - **Below**: \\( Q1 - 1.5 \\times IQR \\)\n",
    "  - **Above**: \\( Q3 + 1.5 \\times IQR \\)\n",
    "- In Python:\n",
    "  ```python\n",
    "  lower_bound = q1 - 1.5 * iqr_value\n",
    "  upper_bound = q3 + 1.5 * iqr_value\n",
    "  outliers = data[(data < lower_bound) | (data > upper_bound)]\n",
    "  ```\n",
    "\n",
    "## 9. Quick Summary Statistics\n",
    "- Get all key stats in one line using Pandas:\n",
    "  ```python\n",
    "  df.describe()\n",
    "  ```\n",
    "\n"
   ]
  },
  {
   "cell_type": "code",
   "execution_count": 10,
   "id": "95279ab5",
   "metadata": {},
   "outputs": [
    {
     "name": "stdout",
     "output_type": "stream",
     "text": [
      "                        var         std\n",
      "food_category                          \n",
      "beef           88748.408132  297.906710\n",
      "dairy          17671.891985  132.935669\n",
      "eggs              21.371819    4.622966\n",
      "fish             921.637349   30.358481\n",
      "lamb_goat      16475.518363  128.356996\n",
      "nuts              35.639652    5.969895\n",
      "pork            3094.963537   55.632396\n",
      "poultry          245.026801   15.653332\n",
      "rice            2281.376243   47.763754\n",
      "soybeans           0.879882    0.938020\n",
      "wheat             71.023937    8.427570\n"
     ]
    },
    {
     "data": {
      "image/png": "[encoded data removed]",
      "text/plain": [
       "<Figure size 640x480 with 1 Axes>"
      ]
     },
     "metadata": {},
     "output_type": "display_data"
    },
    {
     "data": {
      "image/png": "[encoded data removed]",
      "text/plain": [
       "<Figure size 640x480 with 1 Axes>"
      ]
     },
     "metadata": {},
     "output_type": "display_data"
    }
   ],
   "source": [
    "# Print variance and sd of co2_emission for each food_category\n",
    "print(food_consumption.groupby('food_category')['co2_emission'].agg([np.var, np.std]))\n",
    "\n",
    "# Create histogram of co2_emission for food_category 'beef'\n",
    "food_consumption[food_consumption['food_category']== 'beef']['co2_emission'].hist()\n",
    "plt.show()\n",
    "\n",
    "# Create histogram of co2_emission for food_category 'eggs'\n",
    "food_consumption[food_consumption['food_category']== 'eggs']['co2_emission'].hist()\n",
    "plt.show()"
   ]
  },
  {
   "cell_type": "code",
   "execution_count": 11,
   "id": "4dc7c7b0",
   "metadata": {},
   "outputs": [],
   "source": [
    "#Quartiles, quantiles, and quintiles"
   ]
  },
  {
   "cell_type": "code",
   "execution_count": 12,
   "id": "5f3d2732",
   "metadata": {},
   "outputs": [
    {
     "name": "stdout",
     "output_type": "stream",
     "text": [
      "[   0.        5.21     16.53     62.5975 1712.    ]\n"
     ]
    }
   ],
   "source": [
    "# Calculate the quartiles of co2_emission\n",
    "print(np.quantile(food_consumption['co2_emission'], [0, 0.25, 0.5, 0.75, 1]))"
   ]
  },
  {
   "cell_type": "code",
   "execution_count": 14,
   "id": "c89e4e4d",
   "metadata": {},
   "outputs": [
    {
     "name": "stdout",
     "output_type": "stream",
     "text": [
      "[   0.       3.54    11.026   25.59    99.978 1712.   ]\n"
     ]
    }
   ],
   "source": [
    "# Calculate the six quantiles that split up the data into 5 pieces\n",
    "print(np.quantile(food_consumption['co2_emission'], [0, 0.2, 0.4, 0.6, 0.8, 1]))"
   ]
  },
  {
   "cell_type": "code",
   "execution_count": 16,
   "id": "630a7434",
   "metadata": {},
   "outputs": [
    {
     "name": "stdout",
     "output_type": "stream",
     "text": [
      "[0.00000e+00 6.68000e-01 3.54000e+00 7.04000e+00 1.10260e+01 1.65300e+01\n",
      " 2.55900e+01 4.42710e+01 9.99780e+01 2.03629e+02 1.71200e+03]\n"
     ]
    }
   ],
   "source": [
    "#Quantiles using np.linspace()\n",
    "\n",
    "#np.linspace(start, stop, num)\n",
    "\n",
    "print(np.quantile(food_consumption['co2_emission'], np.linspace(0, 1, 11)))"
   ]
  },
  {
   "cell_type": "markdown",
   "id": "3876441e",
   "metadata": {},
   "source": [
    "##Finding Outliers Using IQR\n",
    "\n",
    "Outliers can have significant effects on statistics like the **mean**, as well as on statistics that rely on the mean, such as **variance** and **standard deviation**. The **interquartile range (IQR)** is a measure of spread that is **less influenced by outliers**. \n",
    "\n",
    "IQR is often used to **identify outliers**. A value is considered an outlier if it falls outside the range:\n",
    "\n",
    "\\[ Q1 - 1.5 \\times IQR \\] \n",
    "\\[ Q3 + 1.5 \\times IQR \\]\n",
    "\n",
    "This is also the method used to determine the whisker lengths in a **matplotlib** box plot.\n",
    "\n",
    "##Box Plot Representation:\n",
    "![Box Plot - Median, Quartiles, and Outliers](https://assets.datacamp.com/production/repositories/5758/datasets/ca7e6e1832be7ec1842f62891815a9b0488efa83/Screen%20Shot%202020-04-28%20at%2010.04.54%20AM.png)\n",
    "\n"
   ]
  },
  {
   "cell_type": "code",
   "execution_count": 18,
   "id": "95a66f5b",
   "metadata": {},
   "outputs": [
    {
     "name": "stdout",
     "output_type": "stream",
     "text": [
      "country\n",
      "Albania      1777.85\n",
      "Algeria       707.88\n",
      "Angola        412.99\n",
      "Argentina    2172.40\n",
      "Armenia      1109.93\n",
      "              ...   \n",
      "Uruguay      1634.91\n",
      "Venezuela    1104.10\n",
      "Vietnam       641.51\n",
      "Zambia        225.30\n",
      "Zimbabwe      350.33\n",
      "Name: co2_emission, Length: 130, dtype: float64\n"
     ]
    }
   ],
   "source": [
    "# Calculate total co2_emission per country: emissions_by_country\n",
    "emissions_by_country = food_consumption.groupby('country')['co2_emission'].sum()\n",
    "\n",
    "print(emissions_by_country)"
   ]
  },
  {
   "cell_type": "code",
   "execution_count": 19,
   "id": "05e08e6a",
   "metadata": {},
   "outputs": [],
   "source": [
    "# Calculate total co2_emission per country: emissions_by_country\n",
    "emissions_by_country = food_consumption.groupby('country')['co2_emission'].sum()\n",
    "\n",
    "# Compute the first and third quartiles and IQR of emissions_by_country\n",
    "q1 = np.quantile(emissions_by_country, 0.25)\n",
    "q3 = np.quantile(emissions_by_country, 0.75)\n",
    "iqr = q3 - q1"
   ]
  },
  {
   "cell_type": "code",
   "execution_count": 20,
   "id": "1391d85e",
   "metadata": {},
   "outputs": [],
   "source": [
    "# Calculate the lower and upper cutoffs for outliers\n",
    "lower = q1 - 1.5*iqr\n",
    "upper = q3 + 1.5*iqr"
   ]
  },
  {
   "cell_type": "code",
   "execution_count": 21,
   "id": "6a771a9a",
   "metadata": {},
   "outputs": [
    {
     "name": "stdout",
     "output_type": "stream",
     "text": [
      "country\n",
      "Argentina    2172.4\n",
      "Name: co2_emission, dtype: float64\n"
     ]
    }
   ],
   "source": [
    "# Subset emissions_by_country to find outliers\n",
    "outliers = emissions_by_country[(emissions_by_country < lower) | (emissions_by_country > upper)]\n",
    "print(outliers)"
   ]
  },
  {
   "cell_type": "markdown",
   "id": "5135e12a",
   "metadata": {},
   "source": [
    "# Probability Basics\n",
    "\n",
    "## 1. What are the Chances?\n",
    "- People frequently talk about chance, such as:\n",
    "  - What are the chances of closing a sale?\n",
    "  - What is the probability of rain tomorrow?\n",
    "  - What are the odds of winning a game?\n",
    "- But how do we measure chance mathematically?\n",
    "\n",
    "## 2. Measuring Chance\n",
    "- **Probability** measures the likelihood of an event occurring.\n",
    "- Formula: \n",
    "  ```python\n",
    "  Probability = (Number of favorable outcomes) / (Total possible outcomes)\n",
    "  ```\n",
    "- Example: Coin Flip\n",
    "  - Two possible outcomes: **Heads** or **Tails**\n",
    "  - Probability of heads = `1 / 2 = 0.5` (50%)\n",
    "- Probability is always between **0% (impossible)** and **100% (certain)**.\n",
    "\n",
    "## 3. Assigning Salespeople\n",
    "- Suppose we randomly select a salesperson for a client meeting.\n",
    "- Each person's name is placed on a ticket in a box.\n",
    "- A name is pulled at random to decide who attends the meeting.\n",
    "- Example: Brian's name gets pulled out.\n",
    "  - Probability of selecting Brian: `1/4 = 25%`\n",
    "\n",
    "## 4. Sampling from a DataFrame\n",
    "- We can simulate this scenario in Python using Pandas:\n",
    "  ```python\n",
    "  import pandas as pd\n",
    "  df.sample(n=1)  # Randomly selects one row\n",
    "  ```\n",
    "- Running this multiple times may yield different results.\n",
    "\n",
    "## 5. Setting a Random Seed\n",
    "- To ensure **consistent results**, we use a random seed:\n",
    "  ```python\n",
    "  import numpy as np\n",
    "  np.random.seed(42)  # Setting a seed for reproducibility\n",
    "  ```\n",
    "- The actual seed number doesn’t matter, as long as we use the **same seed** each time.\n",
    "\n",
    "## 6. Sampling Without Replacement\n",
    "- If another client meeting is scheduled at the same time, we need a **new** salesperson.\n",
    "- Since Brian is already selected, we pick from the remaining three.\n",
    "- This is called **sampling without replacement**.\n",
    "- Example: Claire gets picked.\n",
    "  - Probability: `1/3 ≈ 33%`\n",
    "- In Python:\n",
    "  ```python\n",
    "  df.sample(n=2, replace=False)  # Selects two different people\n",
    "  ```\n",
    "\n",
    "## 7. Sampling With Replacement\n",
    "- If meetings happen on **different** days, we can select the same person again.\n",
    "- This is called **sampling with replacement**.\n",
    "- Example: Claire gets picked again, but now:\n",
    "  - Probability = `1/4 = 25%`\n",
    "- In Python:\n",
    "  ```python\n",
    "  df.sample(n=2, replace=True)  # Same person can appear multiple times\n",
    "  ```\n",
    "\n",
    "## 8. Independent vs. Dependent Events\n",
    "- **Independent Events**:\n",
    "  - The probability of the second event **is not affected** by the first.\n",
    "  - Example: Sampling **with** replacement.\n",
    "  - Probability of Claire being picked second remains `25%`, no matter who was picked first.\n",
    "- **Dependent Events**:\n",
    "  - The probability of the second event **changes** based on the first.\n",
    "  - Example: Sampling **without** replacement.\n",
    "  - If Claire is picked first, the probability of picking her second is `0%`.\n",
    "  - If someone else is picked first, Claire’s probability of being picked second is `33%`.\n",
    "\n",
    "## 9. Summary\n",
    "- **Sampling with replacement** = Independent events.\n",
    "- **Sampling without replacement** = Dependent events.\n",
    "- Setting a **random seed** ensures reproducibility in Python.\n",
    "- **Probability calculations** help us understand and predict outcomes.\n",
    "\n"
   ]
  },
  {
   "cell_type": "code",
   "execution_count": 2,
   "id": "0232afc0",
   "metadata": {},
   "outputs": [],
   "source": [
    "#import data\n",
    "import pandas as pd\n",
    "amir_deals = pd.read_csv(r\"C:\\Users\\Nikhil Patil\\Downloads\\amir_deals.csv\")"
   ]
  },
  {
   "cell_type": "code",
   "execution_count": 3,
   "id": "31a90769",
   "metadata": {},
   "outputs": [
    {
     "data": {
      "text/html": [
       "<div>\n",
       "<style scoped>\n",
       "    .dataframe tbody tr th:only-of-type {\n",
       "        vertical-align: middle;\n",
       "    }\n",
       "\n",
       "    .dataframe tbody tr th {\n",
       "        vertical-align: top;\n",
       "    }\n",
       "\n",
       "    .dataframe thead th {\n",
       "        text-align: right;\n",
       "    }\n",
       "</style>\n",
       "<table border=\"1\" class=\"dataframe\">\n",
       "  <thead>\n",
       "    <tr style=\"text-align: right;\">\n",
       "      <th></th>\n",
       "      <th>Unnamed: 0</th>\n",
       "      <th>product</th>\n",
       "      <th>client</th>\n",
       "      <th>status</th>\n",
       "      <th>amount</th>\n",
       "      <th>num_users</th>\n",
       "    </tr>\n",
       "  </thead>\n",
       "  <tbody>\n",
       "    <tr>\n",
       "      <th>0</th>\n",
       "      <td>1</td>\n",
       "      <td>Product F</td>\n",
       "      <td>Current</td>\n",
       "      <td>Won</td>\n",
       "      <td>7389.52</td>\n",
       "      <td>19</td>\n",
       "    </tr>\n",
       "    <tr>\n",
       "      <th>1</th>\n",
       "      <td>2</td>\n",
       "      <td>Product C</td>\n",
       "      <td>New</td>\n",
       "      <td>Won</td>\n",
       "      <td>4493.01</td>\n",
       "      <td>43</td>\n",
       "    </tr>\n",
       "  </tbody>\n",
       "</table>\n",
       "</div>"
      ],
      "text/plain": [
       "   Unnamed: 0    product   client status   amount  num_users\n",
       "0           1  Product F  Current    Won  7389.52         19\n",
       "1           2  Product C      New    Won  4493.01         43"
      ]
     },
     "execution_count": 3,
     "metadata": {},
     "output_type": "execute_result"
    }
   ],
   "source": [
    "amir_deals.head(2)"
   ]
  },
  {
   "cell_type": "code",
   "execution_count": 4,
   "id": "17720c68",
   "metadata": {},
   "outputs": [
    {
     "name": "stdout",
     "output_type": "stream",
     "text": [
      "Product B    62\n",
      "Product D    40\n",
      "Product A    23\n",
      "Product C    15\n",
      "Product F    11\n",
      "Product H     8\n",
      "Product I     7\n",
      "Product E     5\n",
      "Product N     3\n",
      "Product G     2\n",
      "Product J     2\n",
      "Name: product, dtype: int64\n"
     ]
    }
   ],
   "source": [
    "# Count the deals for each product\n",
    "counts = amir_deals['product'].value_counts()\n",
    "print(counts)"
   ]
  },
  {
   "cell_type": "code",
   "execution_count": 5,
   "id": "d818d724",
   "metadata": {},
   "outputs": [
    {
     "name": "stdout",
     "output_type": "stream",
     "text": [
      "Product B    0.348315\n",
      "Product D    0.224719\n",
      "Product A    0.129213\n",
      "Product C    0.084270\n",
      "Product F    0.061798\n",
      "Product H    0.044944\n",
      "Product I    0.039326\n",
      "Product E    0.028090\n",
      "Product N    0.016854\n",
      "Product G    0.011236\n",
      "Product J    0.011236\n",
      "Name: product, dtype: float64\n"
     ]
    }
   ],
   "source": [
    "# Calculate probability of picking a deal with each product\n",
    "probs = counts / amir_deals.shape[0]\n",
    "print(probs)"
   ]
  },
  {
   "cell_type": "code",
   "execution_count": 8,
   "id": "1e778255",
   "metadata": {},
   "outputs": [],
   "source": [
    "#necessary package \n",
    "import pandas as pd\n",
    "import numpy as np"
   ]
  },
  {
   "cell_type": "code",
   "execution_count": 9,
   "id": "f3079de4",
   "metadata": {},
   "outputs": [
    {
     "name": "stdout",
     "output_type": "stream",
     "text": [
      "     Unnamed: 0    product   client status   amount  num_users\n",
      "127         128  Product B  Current    Won  2070.25          7\n",
      "148         149  Product D  Current    Won  3485.48         52\n",
      "77           78  Product B  Current    Won  6252.30         27\n",
      "104         105  Product D  Current    Won  4110.98         39\n",
      "166         167  Product C      New   Lost  3779.86         11\n"
     ]
    }
   ],
   "source": [
    "# Set random seed\n",
    "np.random.seed(24)\n",
    "\n",
    "# Sample 5 deals without replacement\n",
    "sample_without_replacement = amir_deals.sample(5)\n",
    "print(sample_without_replacement)"
   ]
  },
  {
   "cell_type": "code",
   "execution_count": 10,
   "id": "63a51c43",
   "metadata": {},
   "outputs": [
    {
     "name": "stdout",
     "output_type": "stream",
     "text": [
      "     Unnamed: 0    product   client status   amount  num_users\n",
      "133         134  Product D  Current    Won  5992.86         98\n",
      "101         102  Product H  Current    Won  5116.34         63\n",
      "110         111  Product B  Current    Won   696.88         44\n",
      "49           50  Product B  Current    Won  3488.36         79\n",
      "56           57  Product D  Current    Won  6820.84         42\n"
     ]
    }
   ],
   "source": [
    "# Sample 5 deals with replacement\n",
    "sample_with_replacement = amir_deals.sample(5, replace=True)\n",
    "print(sample_with_replacement)"
   ]
  },
  {
   "cell_type": "markdown",
   "id": "b5d2ae31",
   "metadata": {},
   "source": [
    "# Discrete Distributions\n"
   ]
  },
  {
   "cell_type": "code",
   "execution_count": 12,
   "id": "42e84239",
   "metadata": {},
   "outputs": [],
   "source": [
    "# 1. Rolling the Dice\n",
    "# A fair six-sided die has six possible outcomes, each with equal probability.\n",
    "import numpy as np\n",
    "import pandas as pd\n",
    "import matplotlib.pyplot as plt"
   ]
  },
  {
   "cell_type": "code",
   "execution_count": 14,
   "id": "9129ae0c",
   "metadata": {},
   "outputs": [],
   "source": [
    "outcomes = [1, 2, 3, 4, 5, 6]\n",
    "probabilities = [1/6] * 6  # Uniform probability distribution"
   ]
  },
  {
   "cell_type": "code",
   "execution_count": 15,
   "id": "d146ce1f",
   "metadata": {},
   "outputs": [
    {
     "data": {
      "image/png": "[encoded data removed]",
      "text/plain": [
       "<Figure size 640x480 with 1 Axes>"
      ]
     },
     "metadata": {},
     "output_type": "display_data"
    }
   ],
   "source": [
    "# Visualizing probability distribution\n",
    "plt.bar(outcomes, probabilities)\n",
    "plt.xlabel(\"Outcome\")\n",
    "plt.ylabel(\"Probability\")\n",
    "plt.title(\"Probability Distribution of a Fair Die\")\n",
    "plt.show()"
   ]
  },
  {
   "cell_type": "code",
   "execution_count": 16,
   "id": "5c74324b",
   "metadata": {},
   "outputs": [
    {
     "name": "stdout",
     "output_type": "stream",
     "text": [
      "Expected Value of Rolling a Fair Die: 3.5\n"
     ]
    }
   ],
   "source": [
    "# 2. Expected Value Calculation\n",
    "expected_value = sum(outcome * prob for outcome, prob in zip(outcomes, probabilities))\n",
    "print(f\"Expected Value of Rolling a Fair Die: {expected_value}\")"
   ]
  },
  {
   "cell_type": "code",
   "execution_count": 17,
   "id": "7ad1152b",
   "metadata": {},
   "outputs": [],
   "source": [
    "# 3. Uneven Die Scenario\n",
    "# Assume the '2' face is turned into another '3', changing the probability distribution.\n",
    "outcomes_modified = [1, 2, 3, 4, 5, 6]\n",
    "probabilities_modified = [1/6, 0, 1/3, 1/6, 1/6, 1/6]  # Adjusted probabilities"
   ]
  },
  {
   "cell_type": "code",
   "execution_count": 18,
   "id": "6ff2dfb3",
   "metadata": {},
   "outputs": [
    {
     "data": {
      "image/png": "[encoded data removed]",
      "text/plain": [
       "<Figure size 640x480 with 1 Axes>"
      ]
     },
     "metadata": {},
     "output_type": "display_data"
    }
   ],
   "source": [
    "# Visualizing new probability distribution\n",
    "plt.bar(outcomes_modified, probabilities_modified, color='orange')\n",
    "plt.xlabel(\"Outcome\")\n",
    "plt.ylabel(\"Probability\")\n",
    "plt.title(\"Probability Distribution of a Modified Die\")\n",
    "plt.show()"
   ]
  },
  {
   "cell_type": "code",
   "execution_count": 19,
   "id": "e7d70efd",
   "metadata": {},
   "outputs": [
    {
     "name": "stdout",
     "output_type": "stream",
     "text": [
      "10 Rolls Sampled from a Fair Die: [3 6 5 4 1 1 1 6 4 5]\n"
     ]
    }
   ],
   "source": [
    "# 4. Sampling from a Discrete Distribution\n",
    "die_df = pd.DataFrame({\"Outcome\": outcomes, \"Probability\": probabilities})\n",
    "np.random.seed(42)  # Ensuring reproducibility\n",
    "sample_10 = np.random.choice(die_df[\"Outcome\"], size=10, replace=True, p=die_df[\"Probability\"])\n",
    "print(f\"10 Rolls Sampled from a Fair Die: {sample_10}\")"
   ]
  },
  {
   "cell_type": "code",
   "execution_count": 20,
   "id": "d94bc99f",
   "metadata": {},
   "outputs": [],
   "source": [
    "# 5. Law of Large Numbers\n",
    "sample_sizes = [10, 100, 1000]\n",
    "means = []\n"
   ]
  },
  {
   "cell_type": "code",
   "execution_count": 21,
   "id": "15d7c756",
   "metadata": {},
   "outputs": [
    {
     "data": {
      "image/png": "[encoded data removed]",
      "text/plain": [
       "<Figure size 640x480 with 1 Axes>"
      ]
     },
     "metadata": {},
     "output_type": "display_data"
    }
   ],
   "source": [
    "for size in sample_sizes:\n",
    "    sample = np.random.choice(die_df[\"Outcome\"], size=size, replace=True, p=die_df[\"Probability\"])\n",
    "    means.append(np.mean(sample))\n",
    "    plt.hist(sample, bins=np.linspace(0.5, 6.5, 7), alpha=0.6, label=f\"{size} Rolls\")\n",
    "\n",
    "plt.xlabel(\"Outcome\")\n",
    "plt.ylabel(\"Frequency\")\n",
    "plt.title(\"Distribution of Rolls as Sample Size Increases\")\n",
    "plt.legend()\n",
    "plt.show()"
   ]
  },
  {
   "cell_type": "code",
   "execution_count": 22,
   "id": "effdec64",
   "metadata": {},
   "outputs": [
    {
     "name": "stdout",
     "output_type": "stream",
     "text": [
      "Mean of 10 Rolls: 2.90\n",
      "Mean of 100 Rolls: 3.35\n",
      "Mean of 1000 Rolls: 3.49\n",
      "As sample size increases, the sample mean approaches the expected mean (Law of Large Numbers).\n"
     ]
    }
   ],
   "source": [
    "# 6. Observing Convergence to Expected Value\n",
    "for size, mean in zip(sample_sizes, means):\n",
    "    print(f\"Mean of {size} Rolls: {mean:.2f}\")\n",
    "\n",
    "print(\"As sample size increases, the sample mean approaches the expected mean (Law of Large Numbers).\")\n"
   ]
  },
  {
   "cell_type": "raw",
   "id": "e0ca8e21",
   "metadata": {},
   "source": [
    "# Create a histogram of restaurant_groups and show plot\n",
    "restaurant_groups['group_size'].hist(bins=np.linspace(2,6,5))\n",
    "plt.show()\n",
    "\n",
    "# Create probability distribution\n",
    "size_dist = restaurant_groups['group_size'].value_counts() / restaurant_groups.shape[0]\n",
    "\n",
    "# Reset index and rename columns\n",
    "size_dist = size_dist.reset_index()\n",
    "size_dist.columns = ['group_size', 'prob']\n",
    "print(size_dist)\n",
    "\n",
    "# Calculate expected value\n",
    "expected_value = np.sum(size_dist['group_size'] * size_dist['prob'])\n",
    "print(expected_value)"
   ]
  },
  {
   "cell_type": "code",
   "execution_count": 26,
   "id": "446e4093",
   "metadata": {},
   "outputs": [],
   "source": [
    "#Continuous distributions"
   ]
  },
  {
   "cell_type": "code",
   "execution_count": 27,
   "id": "f629854f",
   "metadata": {},
   "outputs": [
    {
     "data": {
      "image/png": "[encoded data removed]",
      "text/plain": [
       "<Figure size 800x500 with 1 Axes>"
      ]
     },
     "metadata": {},
     "output_type": "display_data"
    },
    {
     "name": "stdout",
     "output_type": "stream",
     "text": [
      "Probability of waiting between 4 and 7 minutes: 25.00%\n",
      "Probability of waiting less than 7 minutes: 58.33%\n",
      "Probability of waiting more than 7 minutes: 41.67%\n",
      "Probability of waiting between 4 and 7 minutes using scipy: 25.00%\n",
      "Random samples from uniform distribution: [ 9.89617159  4.17371049  8.13619383  6.78878357  3.20433924 10.54355984\n",
      "  9.56911226  7.90142202 10.20698075 10.40753041]\n"
     ]
    }
   ],
   "source": [
    "import numpy as np\n",
    "import scipy.stats as stats\n",
    "import matplotlib.pyplot as plt\n",
    "\n",
    "# Define the range for the uniform distribution\n",
    "lower, upper = 0, 12\n",
    "\n",
    "# Generate x values for plotting\n",
    "x = np.linspace(lower, upper, 1000)\n",
    "y = np.full_like(x, 1/(upper - lower))  # Uniform PDF is constant\n",
    "\n",
    "# Plot the uniform distribution\n",
    "plt.figure(figsize=(8, 5))\n",
    "plt.plot(x, y, label='Uniform Distribution (0 to 12)', color='blue')\n",
    "plt.fill_between(x, y, alpha=0.2, color='blue')\n",
    "plt.xlabel('Waiting Time (minutes)')\n",
    "plt.ylabel('Probability Density')\n",
    "plt.title('Continuous Uniform Distribution')\n",
    "plt.legend()\n",
    "plt.show()\n",
    "\n",
    "# Probability of waiting between 4 and 7 minutes\n",
    "p_4_to_7 = (7 - 4) / (upper - lower)\n",
    "print(f'Probability of waiting between 4 and 7 minutes: {p_4_to_7:.2%}')\n",
    "\n",
    "# Using scipy to calculate probabilities\n",
    "p_less_than_7 = stats.uniform.cdf(7, lower, upper - lower)\n",
    "print(f'Probability of waiting less than 7 minutes: {p_less_than_7:.2%}')\n",
    "\n",
    "p_more_than_7 = 1 - p_less_than_7\n",
    "print(f'Probability of waiting more than 7 minutes: {p_more_than_7:.2%}')\n",
    "\n",
    "p_4_to_7_scipy = stats.uniform.cdf(7, lower, upper - lower) - stats.uniform.cdf(4, lower, upper - lower)\n",
    "print(f'Probability of waiting between 4 and 7 minutes using scipy: {p_4_to_7_scipy:.2%}')\n",
    "\n",
    "# Generating random numbers from a uniform distribution\n",
    "random_samples = stats.uniform.rvs(lower, upper - lower, size=10)\n",
    "print(f'Random samples from uniform distribution: {random_samples}')\n"
   ]
  },
  {
   "cell_type": "markdown",
   "id": "8ea4d893",
   "metadata": {},
   "source": [
    "# Data back-ups\n",
    "The sales software used at your company is set to automatically back itself up, but no one knows exactly what time the back-ups happen. It is known, however, that back-ups happen exactly every 30 minutes. Amir comes back from sales meetings at random times to update the data on the client he just met with. He wants to know how long he'll have to wait for his newly-entered data to get backed up. Use your new knowledge of continuous uniform distributions to model this situation and answer Amir's questions."
   ]
  },
  {
   "cell_type": "code",
   "execution_count": 29,
   "id": "f78a47fc",
   "metadata": {},
   "outputs": [],
   "source": [
    "# Min and max wait times for back-up that happens every 30 min\n",
    "min_time = 0\n",
    "max_time = 30"
   ]
  },
  {
   "cell_type": "code",
   "execution_count": 32,
   "id": "671c720c",
   "metadata": {},
   "outputs": [
    {
     "name": "stdout",
     "output_type": "stream",
     "text": [
      "0.16666666666666666\n"
     ]
    }
   ],
   "source": [
    "# Import uniform from scipy.stats\n",
    "from scipy.stats import uniform\n",
    "\n",
    "#probability of waiting less than 5 mins\n",
    "prob_less_than_5 = uniform.cdf(5, min_time, max_time)\n",
    "print(prob_less_than_5)"
   ]
  },
  {
   "cell_type": "code",
   "execution_count": 33,
   "id": "3048d3fb",
   "metadata": {},
   "outputs": [
    {
     "name": "stdout",
     "output_type": "stream",
     "text": [
      "0.8333333333333334\n"
     ]
    }
   ],
   "source": [
    "#probability of waiting more than 5 mins\n",
    "prob_greater_than_5 = 1 - uniform.cdf(5, min_time, max_time)\n",
    "print(prob_greater_than_5)"
   ]
  },
  {
   "cell_type": "code",
   "execution_count": 35,
   "id": "13e3a773",
   "metadata": {},
   "outputs": [
    {
     "name": "stdout",
     "output_type": "stream",
     "text": [
      "0.3333333333333333\n"
     ]
    }
   ],
   "source": [
    "#probability of waiting 10-20 mins\n",
    "prob_between_10_and_20 = uniform.cdf(20, min_time, max_time) - uniform.cdf(10, min_time, max_time)\n",
    "print(prob_between_10_and_20)"
   ]
  },
  {
   "cell_type": "markdown",
   "id": "03b62c87",
   "metadata": {},
   "source": [
    "# Simulating wait times\n",
    "To give Amir a better idea of how long he'll have to wait, you'll simulate Amir waiting 1000 times and create a histogram to show him what he should expect. Recall from the last exercise that his minimum wait time is 0 minutes and his maximum wait time is 30 minutes."
   ]
  },
  {
   "cell_type": "code",
   "execution_count": 36,
   "id": "e00104d7",
   "metadata": {},
   "outputs": [],
   "source": [
    "# Set random seed to 334\n",
    "np.random.seed(334)"
   ]
  },
  {
   "cell_type": "code",
   "execution_count": 37,
   "id": "62f6ca08",
   "metadata": {},
   "outputs": [],
   "source": [
    "# Import uniform\n",
    "from scipy.stats import uniform"
   ]
  },
  {
   "cell_type": "code",
   "execution_count": 39,
   "id": "b0672d61",
   "metadata": {},
   "outputs": [],
   "source": [
    "# Generate 1000 wait times between 0 and 30 mins\n",
    "wait_times = uniform.rvs(0, 30, size=1000)"
   ]
  },
  {
   "cell_type": "code",
   "execution_count": 40,
   "id": "ef715dbd",
   "metadata": {},
   "outputs": [
    {
     "data": {
      "image/png": "[encoded data removed]",
      "text/plain": [
       "<Figure size 640x480 with 1 Axes>"
      ]
     },
     "metadata": {},
     "output_type": "display_data"
    }
   ],
   "source": [
    "#histogram of simulated times\n",
    "plt.hist(wait_times)\n",
    "plt.show()"
   ]
  },
  {
   "cell_type": "markdown",
   "id": "fb012986",
   "metadata": {},
   "source": [
    "Here's a formatted version of your text, structured for clarity and readability:\n",
    "\n",
    "## Binomial Distribution\n",
    "\n",
    "### Introduction to Binomial Distribution\n",
    "\n",
    "Expanding the probability toolbox with the binomial distribution involves understanding binary outcomes, such as coin flipping, where each flip has two possible results: heads or tails, each with a 50% chance. These outcomes can also be represented as 1/0, success/failure, or win/loss.\n",
    "\n",
    "### Simulating Coin Flips in Python\n",
    "\n",
    "To simulate coin flips, you can use `binom.rvs` from `scipy.stats`. The `size` argument controls the number of trials.\n",
    "\n",
    "- **Example 1:** `binom.rvs(1, 0.5, size=1)` flips a fair coin once.\n",
    "- **Example 2:** Flipping coins in different ways:\n",
    "  - **One flip many times:** `binom.rvs(1, 0.5, size=8)` flips 1 coin 8 times.\n",
    "  - **Many flips one time:** `binom.rvs(8, 0.5, size=1)` flips 8 coins once.\n",
    "  - **Many flips many times:** `binom.rvs(3, 0.5, size=10)` flips 3 coins 10 times.\n",
    "\n",
    "### Changing Probabilities\n",
    "\n",
    "Adjusting the probability of heads to 25% (`binom.rvs(1, 0.25, size=8)`) results in fewer heads on average.\n",
    "\n",
    "### Understanding the Binomial Distribution\n",
    "\n",
    "The binomial distribution describes the probability of a given number of successes in a series of independent trials. It is characterized by two parameters:\n",
    "- **n:** Number of trials\n",
    "- **p:** Probability of success\n",
    "\n",
    "**Example:** For `n = 10` and `p = 0.5`, getting 5 heads is the most likely outcome.\n",
    "\n",
    "### Calculating Probabilities\n",
    "\n",
    "- **Exact Probability:** The exact probability of getting 7 heads in 10 flips can be calculated using `binom.pmf(7, 10, 0.5)`, which is approximately 12%.\n",
    "- **Cumulative Probability:** The cumulative probability of getting 7 or fewer heads is `binom.cdf(7, 10, 0.5)`, approximately 95%.\n",
    "- **More than 7 Heads:** The probability of getting more than 7 heads is `1 - binom.cdf(7, 10, 0.5)`.\n",
    "\n",
    "### Expected Value\n",
    "\n",
    "The expected value (average number of successes) is given by the formula `E(X) = n * p`.\n",
    "\n",
    "**Example:** For 10 flips with `p = 0.5`, the expected number of heads is `10 * 0.5 = 5`.\n",
    "\n",
    "### Independence Condition\n",
    "\n",
    "For the binomial distribution to apply, trials must be independent. Sampling without replacement changes probabilities, making the binomial model inaccurate.\n"
   ]
  },
  {
   "cell_type": "code",
   "execution_count": 7,
   "id": "f6779989",
   "metadata": {},
   "outputs": [],
   "source": [
    "# Import binom from scipy.stats\n",
    "from scipy.stats import binom\n",
    "import numpy as np\n",
    "\n",
    "# Set random seed to 10\n",
    "np.random.seed(10)"
   ]
  },
  {
   "cell_type": "code",
   "execution_count": 8,
   "id": "d5526e88",
   "metadata": {},
   "outputs": [
    {
     "name": "stdout",
     "output_type": "stream",
     "text": [
      "[1]\n"
     ]
    }
   ],
   "source": [
    "# Simulate a single deal\n",
    "print(binom.rvs(1, 0.30, size=1))"
   ]
  },
  {
   "cell_type": "code",
   "execution_count": 9,
   "id": "831e585e",
   "metadata": {},
   "outputs": [
    {
     "name": "stdout",
     "output_type": "stream",
     "text": [
      "[0]\n"
     ]
    }
   ],
   "source": [
    "# Simulate 1 week of 3 deals\n",
    "print(binom.rvs(3, 0.30, size=1))"
   ]
  },
  {
   "cell_type": "code",
   "execution_count": 10,
   "id": "944722d0",
   "metadata": {},
   "outputs": [],
   "source": [
    "# Simulate 52 weeks of 3 deals\n",
    "deals = binom.rvs(3, 0.30, size=52)"
   ]
  },
  {
   "cell_type": "code",
   "execution_count": 11,
   "id": "8e66c19f",
   "metadata": {},
   "outputs": [
    {
     "name": "stdout",
     "output_type": "stream",
     "text": [
      "0.8461538461538461\n"
     ]
    }
   ],
   "source": [
    "# Print mean deals won per week\n",
    "print(np.mean(deals))"
   ]
  },
  {
   "cell_type": "code",
   "execution_count": 12,
   "id": "c14b8175",
   "metadata": {},
   "outputs": [],
   "source": [
    "#Calculating binomial probabilities"
   ]
  },
  {
   "cell_type": "code",
   "execution_count": 13,
   "id": "0e0f73e3",
   "metadata": {},
   "outputs": [
    {
     "name": "stdout",
     "output_type": "stream",
     "text": [
      "0.026999999999999996\n"
     ]
    }
   ],
   "source": [
    "# Probability of closing 3 out of 3 deals\n",
    "prob_3 = binom.pmf(3, 3, 0.30)\n",
    "\n",
    "print(prob_3)"
   ]
  },
  {
   "cell_type": "code",
   "execution_count": 14,
   "id": "d9399652",
   "metadata": {},
   "outputs": [
    {
     "name": "stdout",
     "output_type": "stream",
     "text": [
      "0.784\n"
     ]
    }
   ],
   "source": [
    "# Probability of closing <= 1 deal out of 3 deals\n",
    "prob_less_than_or_equal_1 = binom.cdf(1, 3, 0.3)\n",
    "\n",
    "print(prob_less_than_or_equal_1)"
   ]
  },
  {
   "cell_type": "code",
   "execution_count": 15,
   "id": "2b7f3259",
   "metadata": {},
   "outputs": [
    {
     "name": "stdout",
     "output_type": "stream",
     "text": [
      "0.21599999999999997\n"
     ]
    }
   ],
   "source": [
    "# Probability of closing > 1 deal out of 3 deals\n",
    "prob_greater_than_1 = 1 - binom.cdf(1, 3, 0.3)\n",
    "\n",
    "print(prob_greater_than_1)"
   ]
  },
  {
   "cell_type": "code",
   "execution_count": 16,
   "id": "c341b3e1",
   "metadata": {},
   "outputs": [
    {
     "name": "stdout",
     "output_type": "stream",
     "text": [
      "0.8999999999999999\n",
      "0.75\n",
      "1.0499999999999998\n"
     ]
    }
   ],
   "source": [
    "# Expected number won with 30% win rate\n",
    "won_30pct = 3 * 0.30\n",
    "print(won_30pct)\n",
    "\n",
    "# Expected number won with 25% win rate\n",
    "won_25pct = 3 * 0.25\n",
    "print(won_25pct)\n",
    "\n",
    "# Expected number won with 35% win rate\n",
    "won_35pct = 3 * 0.35\n",
    "print(won_35pct)"
   ]
  },
  {
   "cell_type": "markdown",
   "id": "46e67e7e",
   "metadata": {},
   "source": [
    "# Normal Distribution\n",
    "The normal distribution, also called the \"bell curve,\" is a fundamental probability distribution used in statistics.\n",
    "\n",
    "## Key Properties:\n",
    "- **Symmetry** – The left and right sides are mirror images.\n",
    "- **Total Area = 1** – Like all continuous distributions, the total probability under the curve is 1.\n",
    "- **Curve Never Reaches Zero** – Even at extreme ends, probability remains positive.\n",
    "- **Defined by Mean & Standard Deviation** – It is characterized by its mean (center) and standard deviation (spread).\n",
    "- **Standard Normal Distribution** – A special case where mean = 0 and standard deviation = 1.\n",
    "\n",
    "## Areas Under the Curve:\n",
    "- 68% of data lies within 1 standard deviation of the mean.\n",
    "- 95% within 2 standard deviations.\n",
    "- 99.7% within 3 standard deviations (**68-95-99.7 rule**).\n",
    "\n",
    "## Applications & Approximation:\n",
    "- Many real-world datasets (e.g., heights) follow the normal distribution.\n",
    "- The **cumulative distribution function (CDF)** helps find the percentage of values below a threshold.\n",
    "- The **percent-point function (PPF)** finds the threshold below which a given percentage of values lie.\n",
    "\n",
    "## Practical Calculations:\n",
    "- Using `scipy.stats.norm.cdf`, one can calculate the proportion of women shorter than 154 cm (~16%).\n",
    "- Subtracting CDF values helps find probabilities for specific height ranges.\n",
    "- `scipy.stats.norm.ppf` finds height values corresponding to a given percentile (e.g., 90% of women are shorter than 170 cm).\n",
    "- `scipy.stats.norm.rvs` generates random numbers following a normal distribution.\n",
    "\n",
    "## Conclusion:\n",
    "The normal distribution is widely applicable, and tools like CDF and PPF help analyze probabilities effectively.\n"
   ]
  },
  {
   "cell_type": "code",
   "execution_count": 24,
   "id": "8a326911",
   "metadata": {},
   "outputs": [],
   "source": [
    "# Histogram of amount with 10 bins and show plot\n",
    "import numpy as np\n",
    "import matplotlib.pyplot as plt\n",
    "import pandas as pd\n",
    "\n",
    "amir_deals = pd.read_csv(r\"C:\\Users\\Nikhil Patil\\Downloads\\amir_deals.csv\")"
   ]
  },
  {
   "cell_type": "code",
   "execution_count": 25,
   "id": "1863c379",
   "metadata": {},
   "outputs": [
    {
     "data": {
      "image/png": "[encoded data removed]",
      "text/plain": [
       "<Figure size 640x480 with 1 Axes>"
      ]
     },
     "metadata": {},
     "output_type": "display_data"
    }
   ],
   "source": [
    "amir_deals['amount'].hist(bins=10)\n",
    "plt.show()"
   ]
  },
  {
   "cell_type": "markdown",
   "id": "a36a44f5",
   "metadata": {},
   "source": [
    "#Probabilities from the normal distribution\n",
    "Since each deal Amir worked on (both won and lost) was different, each was worth a different amount of money. These values are stored in the amount column of amir_deals and follow a normal distribution with a mean of 5000 dollars and a standard deviation of 2000 dollars. As part of his performance metrics, you want to calculate the probability of Amir closing a deal worth various amounts."
   ]
  },
  {
   "cell_type": "code",
   "execution_count": 29,
   "id": "98bf4300",
   "metadata": {},
   "outputs": [],
   "source": [
    "#import norm\n",
    "\n",
    "from scipy.stats import norm "
   ]
  },
  {
   "cell_type": "code",
   "execution_count": 30,
   "id": "19bf235b",
   "metadata": {},
   "outputs": [
    {
     "name": "stdout",
     "output_type": "stream",
     "text": [
      "0.8943502263331446\n"
     ]
    }
   ],
   "source": [
    "# Probability of deal < 7500\n",
    "prob_less_7500 = norm.cdf(7500, 5000, 2000)\n",
    "\n",
    "print(prob_less_7500)"
   ]
  },
  {
   "cell_type": "code",
   "execution_count": 31,
   "id": "ca4cb38a",
   "metadata": {},
   "outputs": [
    {
     "name": "stdout",
     "output_type": "stream",
     "text": [
      "0.9772498680518208\n"
     ]
    }
   ],
   "source": [
    "# Probability of deal > 1000\n",
    "prob_over_1000 = 1- norm.cdf(1000, 5000, 2000)\n",
    "\n",
    "print(prob_over_1000)"
   ]
  },
  {
   "cell_type": "code",
   "execution_count": 32,
   "id": "06346cf8",
   "metadata": {},
   "outputs": [
    {
     "name": "stdout",
     "output_type": "stream",
     "text": [
      "0.6826894921370859\n"
     ]
    }
   ],
   "source": [
    "# Probability of deal between 3000 and 7000\n",
    "prob_3000_to_7000 = norm.cdf(7000, 5000, 2000) - norm.cdf(3000, 5000, 2000)\n",
    "\n",
    "print(prob_3000_to_7000)"
   ]
  },
  {
   "cell_type": "code",
   "execution_count": 33,
   "id": "fca7c224",
   "metadata": {},
   "outputs": [
    {
     "name": "stdout",
     "output_type": "stream",
     "text": [
      "3651.0204996078364\n"
     ]
    }
   ],
   "source": [
    "# Calculate amount that 25% of deals will be less than\n",
    "pct_25 = norm.ppf(0.25, 5000, 2000)\n",
    "\n",
    "print(pct_25)"
   ]
  },
  {
   "cell_type": "markdown",
   "id": "82612aba",
   "metadata": {},
   "source": [
    "Simulating sales under new market conditions\n",
    "The company's financial analyst is predicting that next quarter, the worth of each sale will increase by 20% and the volatility, or standard deviation, of each sale's worth will increase by 30%. To see what Amir's sales might look like next quarter under these new market conditions, you'll simulate new sales amounts using the normal distribution and store these in the new_sales DataFrame, which has already been created for you."
   ]
  },
  {
   "cell_type": "code",
   "execution_count": 34,
   "id": "9ddff46f",
   "metadata": {},
   "outputs": [
    {
     "data": {
      "image/png": "[encoded data removed]",
      "text/plain": [
       "<Figure size 640x480 with 1 Axes>"
      ]
     },
     "metadata": {},
     "output_type": "display_data"
    }
   ],
   "source": [
    "# Calculate new average amount\n",
    "new_mean = 5000 * 1.2\n",
    "\n",
    "# Calculate new standard deviation\n",
    "new_sd = 2000 * 1.3\n",
    "\n",
    "# Simulate 36 new sales\n",
    "new_sales = norm.rvs(new_mean, new_sd, size=36)\n",
    "\n",
    "# Create histogram and show\n",
    "plt.hist(new_sales)\n",
    "plt.show()"
   ]
  },
  {
   "cell_type": "markdown",
   "id": "e3f3a16b",
   "metadata": {},
   "source": [
    "# Central Limit Theorem (CLT)\n",
    "\n",
    "## Introduction\n",
    "- Explains the importance of the normal distribution.\n",
    "\n",
    "## Rolling Dice and Taking Means\n",
    "- Rolling a die 5 times and calculating the mean.\n",
    "- Repeating this process results in different means each time.\n",
    "\n",
    "## Sampling Distributions\n",
    "- Repeating the process 10 times and plotting the sample means.\n",
    "- A distribution of a summary statistic (like the mean) is called a **sampling distribution**.\n",
    "\n",
    "## Increasing Sample Size\n",
    "- Rolling dice 100 times creates a sampling distribution resembling a normal distribution.\n",
    "- With 1000 trials, it closely approximates the normal distribution.\n",
    "\n",
    "## Definition of CLT\n",
    "- The **CLT states** that as the number of trials increases, the sampling distribution approaches a normal distribution.\n",
    "- CLT applies when samples are taken randomly and independently.\n",
    "\n",
    "## Standard Deviation and CLT\n",
    "- CLT applies to other summary statistics like **standard deviation**, which also follows a normal distribution.\n",
    "\n",
    "## Proportions and CLT\n",
    "- CLT applies to proportions, such as the probability of selecting a specific individual in repeated samples.\n",
    "\n",
    "## Estimating Parameters Using CLT\n",
    "- The **mean of a sampling distribution** provides an estimate of the population mean, standard deviation, or proportion.\n",
    "- Useful when dealing with large populations where full data collection is impractical.\n"
   ]
  },
  {
   "cell_type": "markdown",
   "id": "b1d5f93c",
   "metadata": {},
   "source": [
    "The CLT in action\n",
    "The central limit theorem states that a sampling distribution of a sample statistic approaches the normal distribution as you take more samples, no matter the original distribution being sampled from.\n",
    "\n",
    "In this exercise, you'll focus on the sample mean and see the central limit theorem in action while examining the num_users column of amir_deals more closely, which contains the number of people who intend to use the product Amir is selling."
   ]
  },
  {
   "cell_type": "code",
   "execution_count": 41,
   "id": "887b8d8d",
   "metadata": {},
   "outputs": [
    {
     "data": {
      "image/png": "[encoded data removed]",
      "text/plain": [
       "<Figure size 640x480 with 1 Axes>"
      ]
     },
     "metadata": {},
     "output_type": "display_data"
    }
   ],
   "source": [
    "# Create a histogram of num_users and show\n",
    "amir_deals['num_users'].hist()\n",
    "plt.show()"
   ]
  },
  {
   "cell_type": "code",
   "execution_count": 42,
   "id": "30fbf45e",
   "metadata": {},
   "outputs": [
    {
     "name": "stdout",
     "output_type": "stream",
     "text": [
      "32.0\n"
     ]
    }
   ],
   "source": [
    "# Set seed to 104\n",
    "np.random.seed(104)\n",
    "\n",
    "# Sample 20 num_users with replacement from amir_deals\n",
    "samp_20 = amir_deals['num_users'].sample(20, replace=True)\n",
    "\n",
    "# Take mean of samp_20\n",
    "print(np.mean(samp_20))"
   ]
  },
  {
   "cell_type": "code",
   "execution_count": 43,
   "id": "1e764ace",
   "metadata": {},
   "outputs": [
    {
     "data": {
      "image/png": "[encoded data removed]",
      "text/plain": [
       "<Figure size 640x480 with 1 Axes>"
      ]
     },
     "metadata": {},
     "output_type": "display_data"
    }
   ],
   "source": [
    "# Set seed to 104\n",
    "np.random.seed(104)\n",
    "\n",
    "sample_means = []\n",
    "# Loop 100 times\n",
    "for i in range(100):\n",
    "  # Take sample of 20 num_users\n",
    "  samp_20 = amir_deals['num_users'].sample(20, replace=True)\n",
    "  # Calculate mean of samp_20\n",
    "  samp_20_mean = np.mean(samp_20)\n",
    "  # Append samp_20_mean to sample_means\n",
    "  sample_means.append(samp_20_mean)\n",
    "  \n",
    "# Convert to Series and plot histogram\n",
    "sample_means_series = pd.Series(sample_means)\n",
    "sample_means_series.hist()\n",
    "# Show plot\n",
    "plt.show()"
   ]
  },
  {
   "cell_type": "code",
   "execution_count": 44,
   "id": "fdea5b7b",
   "metadata": {},
   "outputs": [
    {
     "ename": "NameError",
     "evalue": "name 'all_deals' is not defined",
     "output_type": "error",
     "traceback": [
      "\u001b[1;31m---------------------------------------------------------------------------\u001b[0m",
      "\u001b[1;31mNameError\u001b[0m                                 Traceback (most recent call last)",
      "Cell \u001b[1;32mIn[44], line 8\u001b[0m\n\u001b[0;32m      5\u001b[0m \u001b[38;5;66;03m# Loop 30 times to take 30 means\u001b[39;00m\n\u001b[0;32m      6\u001b[0m \u001b[38;5;28;01mfor\u001b[39;00m i \u001b[38;5;129;01min\u001b[39;00m \u001b[38;5;28mrange\u001b[39m(\u001b[38;5;241m30\u001b[39m):\n\u001b[0;32m      7\u001b[0m   \u001b[38;5;66;03m# Take sample of size 20 from num_users col of all_deals with replacement\u001b[39;00m\n\u001b[1;32m----> 8\u001b[0m   cur_sample \u001b[38;5;241m=\u001b[39m \u001b[43mall_deals\u001b[49m[\u001b[38;5;124m'\u001b[39m\u001b[38;5;124mnum_users\u001b[39m\u001b[38;5;124m'\u001b[39m]\u001b[38;5;241m.\u001b[39msample(\u001b[38;5;241m20\u001b[39m, replace\u001b[38;5;241m=\u001b[39m\u001b[38;5;28;01mTrue\u001b[39;00m)\n\u001b[0;32m      9\u001b[0m   \u001b[38;5;66;03m# Take mean of cur_sample\u001b[39;00m\n\u001b[0;32m     10\u001b[0m   cur_mean \u001b[38;5;241m=\u001b[39m np\u001b[38;5;241m.\u001b[39mmean(cur_sample)\n",
      "\u001b[1;31mNameError\u001b[0m: name 'all_deals' is not defined"
     ]
    }
   ],
   "source": [
    "# Set seed to 321\n",
    "np.random.seed(321)\n",
    "\n",
    "sample_means = []\n",
    "# Loop 30 times to take 30 means\n",
    "for i in range(30):\n",
    "  # Take sample of size 20 from num_users col of all_deals with replacement\n",
    "  cur_sample = all_deals['num_users'].sample(20, replace=True)\n",
    "  # Take mean of cur_sample\n",
    "  cur_mean = np.mean(cur_sample)\n",
    "  # Append cur_mean to sample_means\n",
    "  sample_means.append(cur_mean)\n",
    "\n",
    "# Print mean of sample_means\n",
    "print(np.mean(sample_means))\n",
    "\n",
    "# Print mean of num_users in amir_deals\n",
    "print(np.mean(amir_deals['num_users']))"
   ]
  },
  {
   "cell_type": "markdown",
   "id": "4ce1f399",
   "metadata": {},
   "source": [
    "# Introduction to Poisson Distribution\n",
    "\n",
    "The Poisson distribution models the probability of events occurring over a fixed period.\n",
    "\n",
    "## Poisson Processes\n",
    "- Events occur at a constant rate but randomly (e.g., animal adoptions, restaurant arrivals, earthquakes).\n",
    "\n",
    "## Definition of Poisson Distribution\n",
    "- Describes the probability of a certain number of events happening in a time period.\n",
    "\n",
    "## Lambda (λ) - The Key Parameter\n",
    "- Represents the average number of events per time unit.\n",
    "- Also the expected value of the distribution.\n",
    "\n",
    "## Effect of Lambda on Shape\n",
    "- Higher λ shifts the distribution while keeping its peak at λ.\n",
    "\n",
    "## Calculating Probabilities\n",
    "- **Single value probability**: Use `poisson.pmf(value, λ)`.\n",
    "- **Cumulative probability**: Use `poisson.cdf(value, λ)`.\n",
    "- **Greater than a value**: Subtract cumulative probability from 1.\n",
    "\n",
    "## Sampling from a Poisson Distribution\n",
    "- Use `poisson.rvs(λ, size=n)` to simulate events over multiple time periods.\n",
    "\n",
    "## Central Limit Theorem (CLT) and Poisson\n",
    "- The sampling distribution of sample means approximates a normal distribution for large samples.\n"
   ]
  },
  {
   "cell_type": "code",
   "execution_count": 46,
   "id": "fcebf46a",
   "metadata": {},
   "outputs": [
    {
     "name": "stdout",
     "output_type": "stream",
     "text": [
      "0.1562934518505317\n"
     ]
    }
   ],
   "source": [
    "# Import poisson from scipy.stats\n",
    "from scipy.stats import poisson\n",
    "\n",
    "# Probability of 5 responses\n",
    "prob_5 = poisson.pmf(5, 4)\n",
    "\n",
    "print(prob_5)"
   ]
  },
  {
   "cell_type": "code",
   "execution_count": 47,
   "id": "3b7f3dcc",
   "metadata": {},
   "outputs": [
    {
     "name": "stdout",
     "output_type": "stream",
     "text": [
      "0.17140068409793663\n"
     ]
    }
   ],
   "source": [
    "# Probability of 5 responses\n",
    "prob_coworker = poisson.pmf(5, 5.5)\n",
    "\n",
    "print(prob_coworker)"
   ]
  },
  {
   "cell_type": "code",
   "execution_count": 48,
   "id": "db156cae",
   "metadata": {},
   "outputs": [
    {
     "name": "stdout",
     "output_type": "stream",
     "text": [
      "0.23810330555354436\n"
     ]
    }
   ],
   "source": [
    "# Probability of 2 or fewer responses\n",
    "prob_2_or_less = poisson.cdf(2, 4)\n",
    "\n",
    "print(prob_2_or_less)"
   ]
  },
  {
   "cell_type": "code",
   "execution_count": 49,
   "id": "f743291b",
   "metadata": {},
   "outputs": [
    {
     "name": "stdout",
     "output_type": "stream",
     "text": [
      "0.0028397661205137315\n"
     ]
    }
   ],
   "source": [
    "# Probability of > 10 responses\n",
    "prob_over_10 = 1 - poisson.cdf(10, 4)\n",
    "\n",
    "print(prob_over_10)"
   ]
  },
  {
   "cell_type": "markdown",
   "id": "3cfa4e69",
   "metadata": {},
   "source": [
    "# Introduction to Probability Distributions\n",
    "\n",
    "- Discusses different probability distributions, starting with the **exponential distribution**.\n",
    "\n",
    "## Exponential Distribution\n",
    "- Models the time between Poisson events, like the time between adoptions, restaurant arrivals, or earthquakes.\n",
    "- It is **continuous** and uses the same rate parameter (lambda) as the Poisson distribution.\n",
    "- The exponential distribution declines steeply based on the rate, and the expected time between events is **1 divided by lambda**.\n",
    "\n",
    "## Customer Service Requests\n",
    "- **Example**: If a customer service ticket is created every 2 minutes, the lambda value is 0.5, meaning half a ticket is created per minute.\n",
    "- The expected time between requests is **2 minutes**.\n",
    "\n",
    "## Calculating Probabilities\n",
    "- Use `expon.cdf` to calculate probabilities for waiting times between events.\n",
    "- For example, the chance of waiting less than 1 minute is **40%**, and between 1 and 4 minutes is **50%**.\n",
    "\n",
    "## Student's t-Distribution\n",
    "- Similar to the normal distribution but with **thicker tails**.\n",
    "- It has a parameter called **degrees of freedom (df)**, where lower df results in thicker tails and a higher standard deviation.\n",
    "\n",
    "## Log-Normal Distribution\n",
    "- Variables with a **log-normal distribution** have a logarithm that is normally distributed, leading to skewed distributions.\n",
    "- Examples include the length of chess games, blood pressure, and hospitalizations during the SARS outbreak.\n"
   ]
  },
  {
   "cell_type": "code",
   "execution_count": 50,
   "id": "be9cb053",
   "metadata": {},
   "outputs": [
    {
     "name": "stdout",
     "output_type": "stream",
     "text": [
      "0.3296799539643607\n"
     ]
    }
   ],
   "source": [
    "# Import expon from scipy.stats\n",
    "from scipy.stats import expon\n",
    "\n",
    "# Print probability response takes < 1 hour\n",
    "print(expon.cdf(1, scale=2.5))"
   ]
  },
  {
   "cell_type": "code",
   "execution_count": 51,
   "id": "27b53699",
   "metadata": {},
   "outputs": [
    {
     "name": "stdout",
     "output_type": "stream",
     "text": [
      "0.20189651799465536\n"
     ]
    }
   ],
   "source": [
    "# Print probability response takes > 4 hours\n",
    "print(1-expon.cdf(4, scale=2.5))"
   ]
  },
  {
   "cell_type": "code",
   "execution_count": 52,
   "id": "48fb17ad",
   "metadata": {},
   "outputs": [
    {
     "name": "stdout",
     "output_type": "stream",
     "text": [
      "0.09929769391754684\n"
     ]
    }
   ],
   "source": [
    "# Print probability response takes 3-4 hours\n",
    "print(expon.cdf(4, scale=2.5) - expon.cdf(3, scale=2.5))"
   ]
  },
  {
   "cell_type": "markdown",
   "id": "fe804892",
   "metadata": {},
   "source": [
    "# 1. Introduction to Correlation\n",
    "- Focuses on correlation and experimental design.\n",
    "- The key concept of this chapter is to understand how variables are related to each other and how to measure those relationships.\n",
    "\n",
    "# 2. Relationships Between Two Variables\n",
    "- When exploring relationships between two numeric variables, we can use a **scatter plot** to visualize them.\n",
    "  - The x-axis represents the **explanatory** or **independent** variable.\n",
    "  - The y-axis represents the **response** or **dependent** variable.\n",
    "- **Example**: You could plot the relationship between the total amount of sleep mammals get and the amount of REM sleep they get.\n",
    "\n",
    "# 3. Correlation Coefficient\n",
    "- A numerical value called the **correlation coefficient** is used to quantify the relationship between two numeric variables. It ranges from **-1 to 1**:\n",
    "  - A correlation coefficient close to **1** indicates a strong **positive** relationship.\n",
    "  - A correlation coefficient close to **-1** indicates a strong **negative** relationship.\n",
    "  - A correlation coefficient of **0** means no relationship.\n",
    "- This coefficient gives us the **strength** (magnitude) and **direction** (positive or negative) of the relationship.\n",
    "\n",
    "# 4. Magnitude = Strength of Relationship\n",
    "- The magnitude of the correlation coefficient corresponds to the strength of the relationship:\n",
    "  - **0.99**: A very strong relationship with points tightly clustered around the trendline (near-perfect correlation).\n",
    "  - **0.75**: A moderately strong relationship, where data points are somewhat scattered around the trendline.\n",
    "  - **0.56**: A moderate correlation, where data points are spread more widely but still exhibit a general trend.\n",
    "  - **0.2**: A weak relationship, with data points scattered across the plot.\n",
    "  - **0**: No relationship, the data points are scattered randomly with no discernible pattern.\n",
    "\n",
    "# 5. Sign = Direction\n",
    "- The **sign** (positive or negative) of the correlation coefficient indicates the direction of the relationship:\n",
    "  - A **positive correlation** means that as the explanatory variable (x) increases, the response variable (y) also increases.\n",
    "  - A **negative correlation** means that as the explanatory variable (x) increases, the response variable (y) decreases.\n",
    "\n",
    "# 6. Visualizing Relationships\n",
    "- A scatterplot can be created using **Seaborn**, a plotting library built on top of **matplotlib**.\n",
    "  - The `sns.scatterplot()` function helps plot the relationship between two variables.\n",
    "  - To add a trendline, you can use `sns.lmplot()` to add a **linear regression line**, making it easier to see the relationship.\n",
    "\n",
    "# 7. Adding a Trendline\n",
    "- To enhance the visual representation of the relationship between variables, you can add a linear trendline to the scatter plot using Seaborn’s **lmplot()** function.\n",
    "- The `ci` parameter can be set to **None** to remove confidence intervals, focusing solely on the line.\n",
    "- Trendlines help to clarify the strength and direction of the relationship between the variables.\n",
    "\n",
    "# 8. Computing Correlation\n",
    "- The correlation coefficient can be calculated using the `.corr()` method in **pandas**.\n",
    "  - For instance, if you want to find the correlation between the `sleep_total` and `sleep_rem` columns in the `msleep` DataFrame, you can call `.corr()` on one of the series (columns) and pass the other as an argument.\n",
    "  - The order of the arguments doesn't matter because correlation is **symmetric** (i.e., the correlation between x and y is the same as y and x).\n",
    "\n",
    "# 9. Methods of Calculating Correlation\n",
    "- The most commonly used method to calculate correlation is the **Pearson correlation coefficient (r)**.\n",
    "  - The formula for Pearson correlation involves the means and standard deviations of the two variables.\n",
    "- There are other methods to calculate correlation, such as **Kendall's tau** and **Spearman's rho**, but they are beyond the scope of this course.\n",
    "- The **Pearson coefficient** is preferred when the data follows a **linear relationship**.\n"
   ]
  },
  {
   "cell_type": "code",
   "execution_count": 55,
   "id": "417a172d",
   "metadata": {},
   "outputs": [],
   "source": [
    "#import data\n",
    "import pandas as pd\n",
    "import seaborn as sns\n",
    "world_happiness = pd.read_csv(r\"C:\\Users\\Nikhil Patil\\Downloads\\world_happiness.csv\")"
   ]
  },
  {
   "cell_type": "code",
   "execution_count": 58,
   "id": "acc0a802",
   "metadata": {},
   "outputs": [
    {
     "data": {
      "image/png": "[encoded data removed]",
      "text/plain": [
       "<Figure size 640x480 with 1 Axes>"
      ]
     },
     "metadata": {},
     "output_type": "display_data"
    }
   ],
   "source": [
    "# Create a scatterplot of happiness_score vs. life_exp and show\n",
    "sns.scatterplot(x='life_exp', y='happiness_score', data=world_happiness)\n",
    "\n",
    "# Show plot\n",
    "plt.show()"
   ]
  },
  {
   "cell_type": "code",
   "execution_count": 59,
   "id": "8c128ea2",
   "metadata": {},
   "outputs": [
    {
     "data": {
      "image/png": "[encoded data removed]",
      "text/plain": [
       "<Figure size 500x500 with 1 Axes>"
      ]
     },
     "metadata": {},
     "output_type": "display_data"
    }
   ],
   "source": [
    "# Create scatterplot of happiness_score vs life_exp with trendline\n",
    "sns.lmplot(x='life_exp', y='happiness_score', data=world_happiness, ci=None)\n",
    "\n",
    "\n",
    "# Show plot\n",
    "plt.show()"
   ]
  },
  {
   "cell_type": "code",
   "execution_count": 63,
   "id": "c38ccea5",
   "metadata": {},
   "outputs": [
    {
     "name": "stdout",
     "output_type": "stream",
     "text": [
      "0.7802249053272062\n"
     ]
    }
   ],
   "source": [
    "#Find Corr\n",
    "cor = world_happiness['happiness_score'].corr(world_happiness['life_exp'])\n",
    "print(cor)"
   ]
  },
  {
   "cell_type": "markdown",
   "id": "1b19121f",
   "metadata": {},
   "source": [
    "# 1. Introduction to Correlation Caveats\n",
    "\n",
    "While correlation is a useful tool for measuring relationships between variables, there are important limitations to keep in mind.\n",
    "This chapter discusses cases where correlation may not be reliable and explores methods to improve analysis.\n",
    "\n",
    "# 2. Non-Linear Relationships\n",
    "\n",
    "Example: A dataset shows a clear relationship between x and y, but the calculated correlation is only 0.18.\n",
    "This happens because the relationship is quadratic (non-linear), whereas correlation measures only linear relationships.\n",
    "\n",
    "Key takeaway: Correlation only quantifies linear relationships, so it shouldn't be used blindly. Always visualize your data before drawing conclusions.\n",
    "\n",
    "# 3. Mammal Sleep Data Example\n",
    "\n",
    "A scatterplot of mammal body weight vs. awake time shows that the relationship is not linear.\n",
    "The computed correlation coefficient is only 0.3, indicating a weak linear relationship.\n",
    "However, this low correlation does not mean there’s no relationship—it could be non-linear.\n",
    "\n",
    "# 4. Skewed Data and Log Transformation\n",
    "\n",
    "The distribution of body weight is highly skewed, meaning there are many small values and a few extremely large ones.\n",
    "To address this, we apply a log transformation, creating a new variable `log_bodywt = log(bodywt)` using `np.log()`.\n",
    "When plotting `log(bodywt)` vs. awake time, the relationship appears more linear than before.\n",
    "The correlation also improves from 0.3 to 0.57, demonstrating that transformations can enhance linearity.\n",
    "\n",
    "# 5. Other Transformations\n",
    "\n",
    "Besides log transformation, other methods help make relationships more linear:\n",
    "* Square root transformation (reduces skewness).\n",
    "* Reciprocal transformation (useful for long-tailed distributions).\n",
    "\n",
    "The best transformation depends on the data. Sometimes, transformations can be applied to both x and y simultaneously.\n",
    "\n",
    "# 6. Why Use Transformations?\n",
    "\n",
    "Many statistical methods, including correlation and linear regression, assume that variables are linearly related.\n",
    "Transformations help meet this assumption, improving the reliability of analysis.\n",
    "\n",
    "# 7. Correlation Does Not Imply Causation\n",
    "\n",
    "Just because two variables are correlated doesn’t mean one causes the other.\n",
    "Example: A scatterplot shows a 0.99 correlation between US margarine consumption and the divorce rate in Maine.\n",
    "This correlation is spurious—eating margarine clearly does not cause divorce.\n",
    "Spurious correlations occur when unrelated variables happen to change in similar ways.\n",
    "\n",
    "# 8. Confounding Variables\n",
    "\n",
    "A confounder (lurking variable) is a hidden third factor that affects both variables, creating misleading correlations.\n",
    "Example: Coffee and Lung Cancer\n",
    "* Data shows coffee drinking is correlated with lung cancer.\n",
    "* However, a hidden variable—smoking— is influencing both.\n",
    "* Smoking is associated with both higher coffee consumption and lung cancer risk.\n",
    "* In reality, coffee does not cause lung cancer, but the correlation appears due to smoking.\n",
    "\n",
    "Another example:\n",
    "* Holidays and retail sales are correlated.\n",
    "* However, special promotions and discounts also influence sales.\n",
    "* It’s unclear whether sales increase because of the holidays or because of promotions—the latter is a confounder.\n",
    "\n",
    "# 9. Responsible Use of Correlation\n",
    "\n",
    "* Always visualize data before using correlation.\n",
    "* Check for non-linearity—correlation only captures linear relationships.\n",
    "* Be aware of confounders—correlation does not prove causation.\n",
    "* Use transformations if data is skewed or non-linear."
   ]
  },
  {
   "cell_type": "code",
   "execution_count": 64,
   "id": "0d41d0b3",
   "metadata": {},
   "outputs": [
    {
     "data": {
      "image/png": "[encoded data removed]",
      "text/plain": [
       "<Figure size 640x480 with 1 Axes>"
      ]
     },
     "metadata": {},
     "output_type": "display_data"
    }
   ],
   "source": [
    "# Scatterplot of gdp_per_cap and life_exp\n",
    "sns.scatterplot(x='gdp_per_cap', y='life_exp', data=world_happiness)\n",
    "\n",
    "# Show plot\n",
    "plt.show()"
   ]
  },
  {
   "cell_type": "code",
   "execution_count": 66,
   "id": "3af033c5",
   "metadata": {},
   "outputs": [
    {
     "name": "stdout",
     "output_type": "stream",
     "text": [
      "0.7019547642148012\n"
     ]
    }
   ],
   "source": [
    "# Correlation \n",
    "cor = world_happiness['gdp_per_cap'].corr(world_happiness['life_exp'])\n",
    "\n",
    "print(cor)"
   ]
  },
  {
   "cell_type": "code",
   "execution_count": 68,
   "id": "6c1f8f15",
   "metadata": {},
   "outputs": [
    {
     "data": {
      "image/png": "[encoded data removed]",
      "text/plain": [
       "<Figure size 640x480 with 1 Axes>"
      ]
     },
     "metadata": {},
     "output_type": "display_data"
    },
    {
     "name": "stdout",
     "output_type": "stream",
     "text": [
      "0.727973301222298\n"
     ]
    }
   ],
   "source": [
    "#Transforming variables\n",
    "\n",
    "\n",
    "# Scatterplot of happiness_score vs. gdp_per_cap\n",
    "sns.scatterplot(x='gdp_per_cap', y='happiness_score', data=world_happiness)\n",
    "plt.show()\n",
    "\n",
    "# Calculate correlation\n",
    "cor = world_happiness['happiness_score'].corr(world_happiness['gdp_per_cap'])\n",
    "print(cor)"
   ]
  },
  {
   "cell_type": "code",
   "execution_count": 71,
   "id": "d5c63e95",
   "metadata": {},
   "outputs": [
    {
     "data": {
      "image/png": "[encoded data removed]",
      "text/plain": [
       "<Figure size 640x480 with 1 Axes>"
      ]
     },
     "metadata": {},
     "output_type": "display_data"
    },
    {
     "name": "stdout",
     "output_type": "stream",
     "text": [
      "0.8043146004918288\n"
     ]
    }
   ],
   "source": [
    "# Create log_gdp_per_cap column\n",
    "world_happiness['log_gdp_per_cap'] = np.log(world_happiness['gdp_per_cap'])\n",
    "\n",
    "# Scatterplot of happiness_score vs. log_gdp_per_cap\n",
    "sns.scatterplot(x='log_gdp_per_cap', y='happiness_score', data=world_happiness)\n",
    "plt.show()\n",
    "\n",
    "# Calculate correlation\n",
    "cor = world_happiness['log_gdp_per_cap'].corr(world_happiness['happiness_score'])\n",
    "print(cor)"
   ]
  },
  {
   "cell_type": "raw",
   "id": "9ad28f4b",
   "metadata": {},
   "source": [
    "# Scatterplot of grams_sugar_per_day and happiness_score\n",
    "sns.scatterplot(x='grams_sugar_per_day', y='happiness_score', data=world_happiness)\n",
    "plt.show()\n",
    "\n",
    "# Correlation between grams_sugar_per_day and happiness_score\n",
    "cor = world_happiness['grams_sugar_per_day'].corr(world_happiness['happiness_score'])\n",
    "print(cor)"
   ]
  },
  {
   "cell_type": "code",
   "execution_count": null,
   "id": "bc6450ef",
   "metadata": {},
   "outputs": [],
   "source": []
  }
 ],
 "metadata": {
  "kernelspec": {
   "display_name": "Python 3 (ipykernel)",
   "language": "python",
   "name": "python3"
  },
  "language_info": {
   "codemirror_mode": {
    "name": "ipython",
    "version": 3
   },
   "file_extension": ".py",
   "mimetype": "text/x-python",
   "name": "python",
   "nbconvert_exporter": "python",
   "pygments_lexer": "ipython3",
   "version": "3.10.9"
  }
 },
 "nbformat": 4,
 "nbformat_minor": 5
}
